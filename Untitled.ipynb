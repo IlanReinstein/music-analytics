{
 "cells": [
  {
   "cell_type": "code",
   "execution_count": 72,
   "id": "22971ece-b767-4afb-bb85-97f8a30f976d",
   "metadata": {},
   "outputs": [],
   "source": [
    "import pyspark\n",
    "import json\n",
    "import requests\n",
    "import os"
   ]
  },
  {
   "cell_type": "code",
   "execution_count": 73,
   "id": "50194913-8939-422a-a62d-505a63ebe086",
   "metadata": {},
   "outputs": [],
   "source": [
    "api_key = 'f45caf5e-2bcc-461b-97c2-2ba21237c685'\n",
    "\n",
    "artist_info_url = \"https://api.songstats.com/enterprise/v1/artists/search\"\n",
    "headers = {\n",
    "    'Content-Type': \"application/json\",\n",
    "    'Accept-Encoding': \"gzip, deflate, br\",\n",
    "    'apikey': api_key\n",
    "    }\n",
    "\n",
    "artists = {\"Junior Mesa\":None, \"Carla Morrison\":None, 'Ceci Bastida': None, \n",
    "          'Gaby Moreno':None}\n",
    "\n",
    "for artist in artists.keys():\n",
    "    querystring = {\"q\": artist}\n",
    "    response = requests.request(\"GET\", artist_info_url, headers=headers, params=querystring)\n",
    "    artist_id = response.json()['results'][0]['songstats_artist_id']\n",
    "    artists[artist] = artist_id\n",
    "    "
   ]
  },
  {
   "cell_type": "code",
   "execution_count": 74,
   "id": "a9391b03-5fab-4c64-a781-a91e417fcbc7",
   "metadata": {},
   "outputs": [],
   "source": [
    "\n",
    "\n",
    "historic_url = \"https://api.songstats.com/enterprise/v1/artists/historic_stats\"\n",
    "path = \"data/raw\"\n",
    "for artist, artist_id in artists.items():\n",
    "    params = {'songstats_artist_id':artist_id}\n",
    "    response = requests.request(\"GET\", historic_url, headers=headers, params=params)\n",
    "    artist_json = response.json()\n",
    "    file_name = os.path.join(path, artist.lower().replace(\" \", \"_\") + \".json\")    \n",
    "    with open(file_name, 'w') as f:\n",
    "        json.dump(artist_json, f)"
   ]
  },
  {
   "cell_type": "code",
   "execution_count": null,
   "id": "66e40c84",
   "metadata": {},
   "outputs": [],
   "source": [
    "# Pensar hacer un paso para la extraccion de la API y \n",
    "# poner en un bucket para todos los artistas (1 json por artista)\n",
    "\n",
    "# guardar en raw/artista_xx.json -> un json por artista\n",
    "\n",
    "# Crear las funciones de unstructured (raw) -> structured (staging (parquet))\n",
    "\n",
    "# 1. Filtrar columnas objectivo y escribir en BQ\n",
    "# 2. "
   ]
  },
  {
   "cell_type": "code",
   "execution_count": 75,
   "id": "a1494a65-9479-42db-874b-ca496b4142ac",
   "metadata": {},
   "outputs": [],
   "source": [
    "from pyspark.sql import SparkSession\n",
    "spark = SparkSession.builder.master(\"local[*]\") \\\n",
    "                    .appName('resonance') \\\n",
    "                    .getOrCreate()"
   ]
  },
  {
   "cell_type": "code",
   "execution_count": 87,
   "id": "4bdab214",
   "metadata": {},
   "outputs": [],
   "source": [
    "from pyspark.sql.functions import explode, col, udf, when, isnan, count, isnull, to_date"
   ]
  },
  {
   "cell_type": "code",
   "execution_count": 77,
   "id": "b91839a5",
   "metadata": {},
   "outputs": [],
   "source": [
    "all_json = spark.read.json('data/raw/*')"
   ]
  },
  {
   "cell_type": "code",
   "execution_count": 78,
   "id": "fe0c337b",
   "metadata": {},
   "outputs": [
    {
     "name": "stdout",
     "output_type": "stream",
     "text": [
      "root\n",
      " |-- artist_info: struct (nullable = true)\n",
      " |    |-- avatar: string (nullable = true)\n",
      " |    |-- name: string (nullable = true)\n",
      " |    |-- site_url: string (nullable = true)\n",
      " |    |-- songstats_artist_id: string (nullable = true)\n",
      " |-- message: string (nullable = true)\n",
      " |-- result: string (nullable = true)\n",
      " |-- source_ids: string (nullable = true)\n",
      " |-- stats: array (nullable = true)\n",
      " |    |-- element: struct (containsNull = true)\n",
      " |    |    |-- data: struct (nullable = true)\n",
      " |    |    |    |-- history: array (nullable = true)\n",
      " |    |    |    |    |-- element: struct (containsNull = true)\n",
      " |    |    |    |    |    |-- charted_tracks_current: long (nullable = true)\n",
      " |    |    |    |    |    |-- charts_total: long (nullable = true)\n",
      " |    |    |    |    |    |-- comments_total: long (nullable = true)\n",
      " |    |    |    |    |    |-- date: string (nullable = true)\n",
      " |    |    |    |    |    |-- favorites_total: long (nullable = true)\n",
      " |    |    |    |    |    |-- followers_total: long (nullable = true)\n",
      " |    |    |    |    |    |-- likes_total: long (nullable = true)\n",
      " |    |    |    |    |    |-- monthly_listeners_current: long (nullable = true)\n",
      " |    |    |    |    |    |-- playlist_reach_total: long (nullable = true)\n",
      " |    |    |    |    |    |-- playlists_total: long (nullable = true)\n",
      " |    |    |    |    |    |-- popularity_current: long (nullable = true)\n",
      " |    |    |    |    |    |-- reposts_total: long (nullable = true)\n",
      " |    |    |    |    |    |-- shares_total: long (nullable = true)\n",
      " |    |    |    |    |    |-- shazams_total: long (nullable = true)\n",
      " |    |    |    |    |    |-- streams_current: long (nullable = true)\n",
      " |    |    |    |    |    |-- streams_total: long (nullable = true)\n",
      " |    |    |    |    |    |-- subscribers_total: long (nullable = true)\n",
      " |    |    |    |    |    |-- total_support_total: long (nullable = true)\n",
      " |    |    |    |    |    |-- unique_support_total: long (nullable = true)\n",
      " |    |    |    |    |    |-- videos_total: long (nullable = true)\n",
      " |    |    |    |    |    |-- views_total: long (nullable = true)\n",
      " |    |    |-- source: string (nullable = true)\n",
      "\n"
     ]
    }
   ],
   "source": [
    "all_json.printSchema()"
   ]
  },
  {
   "cell_type": "code",
   "execution_count": 90,
   "id": "a41cde17",
   "metadata": {},
   "outputs": [],
   "source": [
    "def explode_and_subset(df):\n",
    "    # Explode history\n",
    "    out_df = df.withColumn('history', explode('stats.data.history')).withColumn('history', explode('history'))\n",
    "    # Explode DSP names\n",
    "    out_df = out_df.withColumn('dsp', explode('stats.source'))\n",
    "    # Subset important columns\n",
    "    out_df = out_df.select(col('artist_info.songstats_artist_id').alias('artist_id'),\n",
    "                           col('artist_info.name').alias('artist_name'), 'dsp', 'history.*')\n",
    "    out_df = out_df.withColumn('date', to_date('date'))\n",
    "    return out_df"
   ]
  },
  {
   "cell_type": "code",
   "execution_count": 91,
   "id": "4442be30",
   "metadata": {},
   "outputs": [],
   "source": [
    "stage_df = explode_and_subset(all_json)"
   ]
  },
  {
   "cell_type": "code",
   "execution_count": 92,
   "id": "cc5bc658",
   "metadata": {},
   "outputs": [
    {
     "name": "stderr",
     "output_type": "stream",
     "text": [
      "                                                                                \r"
     ]
    }
   ],
   "source": [
    "stage_df.write.mode('overwrite').parquet('data/stage/songstats_stage.parquet')"
   ]
  },
  {
   "cell_type": "code",
   "execution_count": 89,
   "id": "5b3366ac",
   "metadata": {},
   "outputs": [
    {
     "name": "stdout",
     "output_type": "stream",
     "text": [
      "root\n",
      " |-- artist_id: string (nullable = true)\n",
      " |-- artist_name: string (nullable = true)\n",
      " |-- dsp: string (nullable = true)\n",
      " |-- charted_tracks_current: long (nullable = true)\n",
      " |-- charts_total: long (nullable = true)\n",
      " |-- comments_total: long (nullable = true)\n",
      " |-- date: date (nullable = true)\n",
      " |-- favorites_total: long (nullable = true)\n",
      " |-- followers_total: long (nullable = true)\n",
      " |-- likes_total: long (nullable = true)\n",
      " |-- monthly_listeners_current: long (nullable = true)\n",
      " |-- playlist_reach_total: long (nullable = true)\n",
      " |-- playlists_total: long (nullable = true)\n",
      " |-- popularity_current: long (nullable = true)\n",
      " |-- reposts_total: long (nullable = true)\n",
      " |-- shares_total: long (nullable = true)\n",
      " |-- shazams_total: long (nullable = true)\n",
      " |-- streams_current: long (nullable = true)\n",
      " |-- streams_total: long (nullable = true)\n",
      " |-- subscribers_total: long (nullable = true)\n",
      " |-- total_support_total: long (nullable = true)\n",
      " |-- unique_support_total: long (nullable = true)\n",
      " |-- videos_total: long (nullable = true)\n",
      " |-- views_total: long (nullable = true)\n",
      "\n"
     ]
    }
   ],
   "source": [
    "stage_df.withColumn('date', to_date('date')).printSchema()"
   ]
  },
  {
   "cell_type": "code",
   "execution_count": null,
   "id": "100ee958",
   "metadata": {},
   "outputs": [],
   "source": []
  }
 ],
 "metadata": {
  "kernelspec": {
   "display_name": "Python 3 (ipykernel)",
   "language": "python",
   "name": "python3"
  },
  "language_info": {
   "codemirror_mode": {
    "name": "ipython",
    "version": 3
   },
   "file_extension": ".py",
   "mimetype": "text/x-python",
   "name": "python",
   "nbconvert_exporter": "python",
   "pygments_lexer": "ipython3",
   "version": "3.9.7"
  }
 },
 "nbformat": 4,
 "nbformat_minor": 5
}
